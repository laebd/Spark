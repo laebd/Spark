{
  "nbformat": 4,
  "nbformat_minor": 0,
  "metadata": {
    "colab": {
      "provenance": []
    },
    "kernelspec": {
      "name": "python3",
      "display_name": "Python 3"
    },
    "language_info": {
      "name": "python"
    }
  },
  "cells": [
    {
      "cell_type": "code",
      "execution_count": null,
      "metadata": {
        "id": "xxqwFQ6t_TkY"
      },
      "outputs": [],
      "source": [
        "from pyspark.sql import SparkSession\n",
        "\n",
        "spark = SparkSession.\\\n",
        "        builder.\\\n",
        "        appName(\"pyspark-notebook\").\\\n",
        "        master(\"spark://spark-master:7077\").\\\n",
        "        config(\"spark.executor.memory\", \"512m\").\\\n",
        "        getOrCreate()\n",
        "\n",
        "\n",
        "     \n",
        "\n",
        "import pyspark.sql.types as T\n",
        "import pyspark.sql.functions as F\n",
        "import time\n",
        "from pyspark.sql.functions import *\n",
        "from pyspark.sql.functions import unix_timestamp\n",
        "import datetime\n",
        "from datetime import datetime\n",
        "\n",
        "from pyspark.sql import SparkSession\n",
        "\n",
        "\n",
        "spark = SparkSession.builder.master(\"local\").\\\n",
        "                    appName(\"Word Count\").\\\n",
        "                    config(\"spark.driver.bindAddress\",\"localhost\").\\\n",
        "                    config(\"spark.ui.port\",\"4040\").\\\n",
        "                    getOrCreate()\n",
        "\n"
      ]
    },
    {
      "cell_type": "markdown",
      "source": [
        "Создайте схему будущего фрейма данных. Схема должна включать следующие атрибуты:\n",
        "\n",
        "· id - уникальный идентификатор посетителя сайта. Тип – последовательность чисел фиксированной длины. Данное поле не является первичным ключом.\n",
        "\n",
        "· timestamp – дата и время события в формате unix timestamp.\n",
        "\n",
        "· type – тип события, значение из списка (факт посещения(visit), клик по визуальному элементу страницы(click), скролл(scroll), перед на другую страницу(move)).\n",
        "\n",
        "· page_id – id текущей страницы. Тип - последовательность чисел фиксированной длины.\n",
        "\n",
        "· tag – каждая страница с новостью размечается редакцией специальными тегами, которые отражают тематику конкретной новости со страницы. Возможный список тематик: политика, спорт, медицина и т.д.\n",
        "\n",
        "· sign – наличие у пользователя личного кабинета. Значения – True/False."
      ],
      "metadata": {
        "id": "IZzZ4KRY_Z4O"
      }
    },
    {
      "cell_type": "code",
      "source": [
        "\n",
        "schema = T.StructType([\n",
        "                T.StructField(\"id\", T.IntegerType(), True),\n",
        "                T.StructField(\"timestamp\", T.LongType(), True),\n",
        "                T.StructField(\"type\", T.StringType(), True),\n",
        "                T.StructField(\"page_id\", T.IntegerType(), True),\n",
        "                T.StructField(\"tag\", T.StringType(), True),\n",
        "                T.StructField(\"sign\", T.BooleanType(), True)\n",
        "])"
      ],
      "metadata": {
        "id": "e4CRLC45_hQE"
      },
      "execution_count": null,
      "outputs": []
    },
    {
      "cell_type": "markdown",
      "source": [
        "     \n",
        "Создайте датафрейм с описанной выше схемой данных.\n",
        "\n",
        "Наполните датафрейм данными. Пример:\n",
        "\n",
        "(12345, 1667627426, \"click\", 101, \"Sport”, False)"
      ],
      "metadata": {
        "id": "vkmvmdCH_mf0"
      }
    },
    {
      "cell_type": "code",
      "source": [
        "data = [(134441, 1667627426, 'visit', 101, 'политика', True),\n",
        "        (134441, 1667627500, 'scroll', 101, 'политика', True),\n",
        "        (134441, 1667627000, 'move', 200, 'политика', True),\n",
        "        (134442, 1667627426, 'visit', 200, 'политика', True),\n",
        "        (134442, 1667627500, 'scroll', 101, 'политика', True),\n",
        "        (134443, 1667627555, 'move', 101, 'политика', False),\n",
        "        (134443, 1667627426, 'visit', 101, 'политика', False),\n",
        "        (134443, 1667627500, 'scroll', 101, 'политика', False),\n",
        "        (134443, 1667627555, 'click', 200, 'политика', False),\n",
        "        (134444, 1667627426, 'visit', 101, 'политика', False),\n",
        "        (134441, 1667627500, 'click', 200, 'политика', True),\n",
        "        (134441, 1667627555, 'move', 101, 'политика', True),\n",
        "        (134442, 1667627426, 'click', 101, 'политика', True),\n",
        "        (134442, 1667627500, 'click', 102, 'политика', True),\n",
        "        (134443, 1667655555, 'move', 101, 'политика', False),\n",
        "        (134443, 1667655426, 'visit', 103, 'спорт', False),\n",
        "        (134443, 1667665500, 'scroll', 103, 'спорт', False),\n",
        "        (134443, 1667665555, 'move', 105, 'политика', False),\n",
        "        (134443, 1667666555, 'click', 105, 'политика', False),\n",
        "        (134444, 1667627426, 'visit', 101, 'политика', False),\n",
        "        (134445, 1667627500, 'scroll', 101, 'политика', True),\n",
        "        (134446, 1667630000, 'move', 101, 'политика', True),\n",
        "        (134447, 1667627426, 'visit', 101, 'политика', False),\n",
        "        (134448, 1667627426, 'visit', 101, 'политика', True),\n",
        "        (134448, 1667627500, 'scroll', 101, 'политика', True),\n",
        "        (134448, 1667627555, 'click', 150, 'спорт', True),\n",
        "        (134448, 1667627500, 'scroll', 101, 'политика', True),\n",
        "        (134448, 1667627555, 'move', 101, 'политика', True),\n",
        "        (134449, 1667627555, 'click', 150, 'спорт', True),\n",
        "        (134450, 1667627555, 'click', 150, 'спорт', True),\n",
        "        (134450, 1667627555, 'move', 101, 'политика', True),\n",
        "        (134450, 1667627555, 'click', 101, 'политика', True),\n",
        "        (134450, 1667627555, 'move', 101, 'политика', True),\n",
        "        (134448, 1667627500, 'click', 300, 'политика', True),\n",
        "        (134448, 1667627555, 'click', 300, 'политика', True),\n",
        "        (134449, 1667627555, 'click', 300, 'политика', True),\n",
        "        (134450, 1667627555, 'click', 155, 'спорт', True),\n",
        "        (134450, 1667627555, 'click', 155, 'спорт', True),\n",
        "        (134450, 1667627555, 'click', 157, 'спорт', True),\n",
        "        (134450, 1667627555, 'click', 158, 'спорт', True)\n",
        "]\n",
        "df = spark.createDataFrame(data = data, schema = schema)\n",
        "\n",
        "\n",
        "     \n",
        "\n",
        "df.printSchema()\n",
        "\n",
        "df.show()\n"
      ],
      "metadata": {
        "id": "tQM2pr58_scM"
      },
      "execution_count": null,
      "outputs": []
    },
    {
      "cell_type": "markdown",
      "source": [
        "\n",
        "Вывести топ-5 самых активных посетителей сайта"
      ],
      "metadata": {
        "id": "Yb2DnQAmAH4c"
      }
    },
    {
      "cell_type": "code",
      "source": [
        "df.groupBy(col(\"id\"))\\\n",
        "  .count()\\\n",
        "  .sort(desc(\"count\"))\\\n",
        "  .limit(5)\\\n",
        "  .show()"
      ],
      "metadata": {
        "id": "AigeFXsXAHX9"
      },
      "execution_count": null,
      "outputs": []
    },
    {
      "cell_type": "markdown",
      "source": [
        "Посчитать процент посетителей, у которых есть ЛК"
      ],
      "metadata": {
        "id": "zOW35Tb5ASbd"
      }
    },
    {
      "cell_type": "code",
      "source": [
        "\n",
        "\n",
        "\n",
        "\n",
        "df1 = df.select(\"id\",\"sign\").distinct()\n",
        "#df1.show()\n",
        "df1.where(df1.sign == True).count() / df1.count()\n"
      ],
      "metadata": {
        "id": "K7WTw77GAZ5r"
      },
      "execution_count": null,
      "outputs": []
    },
    {
      "cell_type": "markdown",
      "source": [
        "0.7\n",
        "Вывести топ-5 страниц сайта по показателю общего кол-ва кликов на данной странице\n"
      ],
      "metadata": {
        "id": "aOZdO5VPAhfj"
      }
    },
    {
      "cell_type": "code",
      "source": [
        "\n",
        "df.filter(df.type == \"click\")\\\n",
        "  .groupBy(col(\"page_id\"))\\\n",
        "  .count()\\\n",
        "  .sort(desc(\"count\"))\\\n",
        "  .show(5)"
      ],
      "metadata": {
        "id": "N0swLi94AmMs"
      },
      "execution_count": null,
      "outputs": []
    },
    {
      "cell_type": "markdown",
      "source": [
        "Добавьте столбец к фрейму данных со значением временного диапазона в рамках суток с размером окна – 4 часа(0-4, 4-8, 8-12 и т.д.)"
      ],
      "metadata": {
        "id": "nAqIQIVNAx7U"
      }
    },
    {
      "cell_type": "code",
      "source": [
        "df3 = df.withColumn(\"time_range\", when(from_unixtime(col(\"timestamp\"),\"hh\") <= 4,\"0-4\")\n",
        "              .when(from_unixtime(col(\"timestamp\"),\"hh\") <= 8,\"5-8\")\n",
        "              .when(from_unixtime(col(\"timestamp\"),\"hh\") <= 12,\"9-12\"))\n",
        "df3.show(200)"
      ],
      "metadata": {
        "id": "Iiv0LDSkAxUU"
      },
      "execution_count": null,
      "outputs": []
    },
    {
      "cell_type": "markdown",
      "source": [
        "\n",
        "Выведите временной промежуток на основе предыдущего задания, в течение которого было больше всего активностей на сайте."
      ],
      "metadata": {
        "id": "yz0EQxT4A_4l"
      }
    },
    {
      "cell_type": "code",
      "source": [
        "\n",
        "df3.groupBy(col(\"time_range\"))\\\n",
        "   .count()\\\n",
        "   .sort(desc(\"count\"))\\\n",
        "   .show(1)"
      ],
      "metadata": {
        "id": "xJIXikpIBE2E"
      },
      "execution_count": null,
      "outputs": []
    },
    {
      "cell_type": "markdown",
      "source": [
        "\n",
        "Создайте второй фрейм данных, который будет содержать информацию о ЛК посетителя сайта со следующим списком атрибутов\n",
        "\n",
        "  Id – уникальный идентификатор личного кабинета\n",
        "  User_id – уникальный идентификатор посетителя\n",
        "  ФИО посетителя\n",
        "  Дату рождения посетителя\n",
        "  Дата создания ЛК\n",
        "\n",
        "\n",
        "\n"
      ],
      "metadata": {
        "id": "1AiK8rwcBKS7"
      }
    },
    {
      "cell_type": "code",
      "source": [
        "import datetime\n",
        "df_users = spark.createDataFrame([(256888, 134441, \"Ricnhinova Ojuna Cidipovna\", datetime.date(1985,3,13), datetime.date(2022,5,30)),\n",
        "                                  (256889, 134442, \"Petrov Ivan Vasilevich\", datetime.date(1960,10,1), datetime.date(2022,5,21)),\n",
        "                                  (256890, 134443, \"Zaicev Vasil Vasilevich\", datetime.date(1991,12,31), datetime.date(2022,5,21)),\n",
        "                                  (256891, 134444, \"Ivanov D D\", datetime.date(2000,5,31), datetime.date(2022,6,2)),\n",
        "                                  (256892, 134445, \"Petrov T R\", datetime.date(2001,5,15), datetime.date(2022,6,3)),\n",
        "                                  (256893, 134446, \"Zuleiman Z W\", datetime.date(1999,8,3), datetime.date(2022,6,3)),\n",
        "                                  (256894, 134447, \"Kim A F\", datetime.date(2001,6,10), datetime.date(2022,6,3)),\n",
        "                                  (256895, 134448, \"Cydenov R T\", datetime.date(2002,11,7), datetime.date(2022,7,1)),\n",
        "                                  (256896, 134449, \"Cydypova Z R\", datetime.date(2003,8,6), datetime.date(2022,7,1)),\n",
        "                                  (256897, 134450, \"Mother S R\", datetime.date(2003,9,13), datetime.date(2022,7,1))\n",
        "]\n",
        ", [\"id\", \"user_id\", \"FIO\", \"birthday_date\", \"create_date\"])"
      ],
      "metadata": {
        "id": "LKCMAoHyBQw9"
      },
      "execution_count": null,
      "outputs": []
    },
    {
      "cell_type": "markdown",
      "source": [
        "     \n",
        "Вывести фамилии посетителей, которые читали хотя бы одну новость про спорт.\n",
        "\n"
      ],
      "metadata": {
        "id": "GH_8jVZmBWgL"
      }
    },
    {
      "cell_type": "code",
      "source": [
        "\n",
        "df.filter(df.tag == \"спорт\")\\\n",
        "  .join(df_users, df.id == df_users.user_id, 'inner')\\\n",
        "  .select(\"FIO\")\\\n",
        "  .distinct()\\\n",
        "  .show()"
      ],
      "metadata": {
        "id": "GS1ZKptQBbYq"
      },
      "execution_count": null,
      "outputs": []
    },
    {
      "cell_type": "markdown",
      "source": [
        "\n",
        "Выведите 10% ЛК, у которых максимальная разница между датой создания ЛК и датой последнего посещения."
      ],
      "metadata": {
        "id": "5XlUDvY7BgET"
      }
    },
    {
      "cell_type": "code",
      "source": [
        "\n",
        "df4 = df.groupBy(col(\"id\")).max(\"timestamp\")\n",
        "#df4.show()\n",
        "df5 = df.join(df_users, df.id == df_users.user_id, 'inner')\\\n",
        "        .select(df.id.alias(\"id\"),\\\n",
        "                to_date(from_unixtime(df.timestamp,\"yyyy-dd-MM\")).alias(\"last_date\"),\\\n",
        "                df_users.create_date.alias(\"create_date\"))\\\n",
        "        .distinct()\n",
        "#df6 = df.join(df_users, df.id == df_users.user_id, 'inner').withColumn(\"diff_time\", to_date(from_unixtime(df.timestamp,\"yyyy-dd-MM\")))\n",
        "df5.withColumn(\"diff_time\", datediff(df5.create_date, df5.last_date))\\\n",
        "   .sort(desc(\"diff_time\"))\\\n",
        "   .limit(int((df5.count()*0.1)))\\\n",
        "   .show()\n",
        "#df6.show(100)"
      ],
      "metadata": {
        "id": "cCvxjHljBlBb"
      },
      "execution_count": null,
      "outputs": []
    },
    {
      "cell_type": "markdown",
      "source": [
        "Вывести топ-5 страниц, которые чаще всего посещают мужчины и топ-5 страниц, которые посещают чаще женщины."
      ],
      "metadata": {
        "id": "z84N60vcBvqD"
      }
    },
    {
      "cell_type": "code",
      "source": [
        "df_user_sexes = spark.createDataFrame([(134441, \"female\"),\n",
        "                                  (134442, \"male\"),\n",
        "                                  (134443, \"male\"),\n",
        "                                  (134444, \"male\"),\n",
        "                                  (134445, \"male\"),\n",
        "                                  (134446, \"male\"),\n",
        "                                  (134447, \"female\"),\n",
        "                                  (134448, \"male\"),\n",
        "                                  (134449, \"female\"),\n",
        "                                  (134450, \"female\"),\n",
        "]\n",
        ", [\"user_id\", \"sex\"])\n",
        "print(\"топ-5 страниц, которые чаще всего посещают мужчины\")\n",
        "df.filter(df.type == \"visit\")\\\n",
        "  .join(df_users, df.id == df_users.user_id, 'inner')\\\n",
        "  .join(df_user_sexes, df_users.user_id == df_user_sexes.user_id, 'inner')\\\n",
        "  .filter(df_user_sexes.sex == \"male\")\\\n",
        "  .groupBy(\"page_id\")\\\n",
        "  .count()\\\n",
        "  .sort(desc(\"count\"))\\\n",
        "  .show(5)\n",
        "#select(\"sex\", \"page_id\").show()\n",
        "print(\"топ-5 страниц, которые чаще всего посещают женщины\")\n",
        "df.filter(df.type == \"visit\")\\\n",
        "  .join(df_users, df.id == df_users.user_id, 'inner')\\\n",
        "  .join(df_user_sexes, df_users.user_id == df_user_sexes.user_id, 'inner')\\\n",
        "  .filter(df_user_sexes.sex == \"female\")\\\n",
        "  .groupBy(\"page_id\")\\\n",
        "  .count()\\\n",
        "  .sort(desc(\"count\"))\\\n",
        "  .show(5)\n"
      ],
      "metadata": {
        "id": "LObYFABCBwbL"
      },
      "execution_count": null,
      "outputs": []
    }
  ]
}